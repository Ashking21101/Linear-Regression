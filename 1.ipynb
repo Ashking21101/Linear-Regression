{
 "cells": [
  {
   "cell_type": "markdown",
   "metadata": {},
   "source": [
    "# interview\n",
    "Explain your project(Flow)\n",
    "1. Problem statements"
   ]
  },
  {
   "cell_type": "code",
   "execution_count": 28,
   "metadata": {},
   "outputs": [],
   "source": [
    "# https://justpaste.it/b1jv9   h/w"
   ]
  },
  {
   "cell_type": "code",
   "execution_count": 29,
   "metadata": {},
   "outputs": [
    {
     "name": "stdout",
     "output_type": "stream",
     "text": [
      "hello\n"
     ]
    }
   ],
   "source": [
    "            # CMD basics  \n",
    "# to create a new folder using \"cmd\"\n",
    "# 1. locate to your desired folder using \"cd folder name\"\n",
    "# 2. \"mkdir foldername\" give name to your new folder\n",
    "# 3. \"code .\" to enter in  vs code\n",
    "# 4. and to go 1 step back in folder write \"cd ..\" \n",
    "\n",
    "a = print(\"hello\")\n",
    "a"
   ]
  },
  {
   "cell_type": "code",
   "execution_count": 30,
   "metadata": {},
   "outputs": [],
   "source": [
    "import pandas as pd"
   ]
  },
  {
   "cell_type": "code",
   "execution_count": 31,
   "metadata": {},
   "outputs": [
    {
     "data": {
      "text/html": [
       "<div>\n",
       "<style scoped>\n",
       "    .dataframe tbody tr th:only-of-type {\n",
       "        vertical-align: middle;\n",
       "    }\n",
       "\n",
       "    .dataframe tbody tr th {\n",
       "        vertical-align: top;\n",
       "    }\n",
       "\n",
       "    .dataframe thead th {\n",
       "        text-align: right;\n",
       "    }\n",
       "</style>\n",
       "<table border=\"1\" class=\"dataframe\">\n",
       "  <thead>\n",
       "    <tr style=\"text-align: right;\">\n",
       "      <th></th>\n",
       "      <th>TV</th>\n",
       "      <th>Radio</th>\n",
       "      <th>Newspaper</th>\n",
       "      <th>Sales</th>\n",
       "    </tr>\n",
       "  </thead>\n",
       "  <tbody>\n",
       "    <tr>\n",
       "      <th>1</th>\n",
       "      <td>230.1</td>\n",
       "      <td>37.8</td>\n",
       "      <td>69.2</td>\n",
       "      <td>22.1</td>\n",
       "    </tr>\n",
       "    <tr>\n",
       "      <th>2</th>\n",
       "      <td>44.5</td>\n",
       "      <td>39.3</td>\n",
       "      <td>45.1</td>\n",
       "      <td>10.4</td>\n",
       "    </tr>\n",
       "    <tr>\n",
       "      <th>3</th>\n",
       "      <td>17.2</td>\n",
       "      <td>45.9</td>\n",
       "      <td>69.3</td>\n",
       "      <td>9.3</td>\n",
       "    </tr>\n",
       "    <tr>\n",
       "      <th>4</th>\n",
       "      <td>151.5</td>\n",
       "      <td>41.3</td>\n",
       "      <td>58.5</td>\n",
       "      <td>18.5</td>\n",
       "    </tr>\n",
       "    <tr>\n",
       "      <th>5</th>\n",
       "      <td>180.8</td>\n",
       "      <td>10.8</td>\n",
       "      <td>58.4</td>\n",
       "      <td>12.9</td>\n",
       "    </tr>\n",
       "  </tbody>\n",
       "</table>\n",
       "</div>"
      ],
      "text/plain": [
       "      TV  Radio  Newspaper  Sales\n",
       "1  230.1   37.8       69.2   22.1\n",
       "2   44.5   39.3       45.1   10.4\n",
       "3   17.2   45.9       69.3    9.3\n",
       "4  151.5   41.3       58.5   18.5\n",
       "5  180.8   10.8       58.4   12.9"
      ]
     },
     "execution_count": 31,
     "metadata": {},
     "output_type": "execute_result"
    }
   ],
   "source": [
    "data = pd.read_csv(\"Advertising (1).csv\", index_col=0)\n",
    "data.head()"
   ]
  },
  {
   "cell_type": "code",
   "execution_count": 32,
   "metadata": {},
   "outputs": [
    {
     "data": {
      "text/plain": [
       "(200, 4)"
      ]
     },
     "execution_count": 32,
     "metadata": {},
     "output_type": "execute_result"
    }
   ],
   "source": [
    "data.shape"
   ]
  },
  {
   "cell_type": "code",
   "execution_count": 33,
   "metadata": {},
   "outputs": [
    {
     "data": {
      "text/html": [
       "<div>\n",
       "<style scoped>\n",
       "    .dataframe tbody tr th:only-of-type {\n",
       "        vertical-align: middle;\n",
       "    }\n",
       "\n",
       "    .dataframe tbody tr th {\n",
       "        vertical-align: top;\n",
       "    }\n",
       "\n",
       "    .dataframe thead th {\n",
       "        text-align: right;\n",
       "    }\n",
       "</style>\n",
       "<table border=\"1\" class=\"dataframe\">\n",
       "  <thead>\n",
       "    <tr style=\"text-align: right;\">\n",
       "      <th></th>\n",
       "      <th>TV</th>\n",
       "      <th>Radio</th>\n",
       "      <th>Newspaper</th>\n",
       "      <th>Sales</th>\n",
       "    </tr>\n",
       "  </thead>\n",
       "  <tbody>\n",
       "    <tr>\n",
       "      <th>count</th>\n",
       "      <td>200.000000</td>\n",
       "      <td>200.000000</td>\n",
       "      <td>200.000000</td>\n",
       "      <td>200.000000</td>\n",
       "    </tr>\n",
       "    <tr>\n",
       "      <th>mean</th>\n",
       "      <td>147.042500</td>\n",
       "      <td>23.264000</td>\n",
       "      <td>30.554000</td>\n",
       "      <td>14.022500</td>\n",
       "    </tr>\n",
       "    <tr>\n",
       "      <th>std</th>\n",
       "      <td>85.854236</td>\n",
       "      <td>14.846809</td>\n",
       "      <td>21.778621</td>\n",
       "      <td>5.217457</td>\n",
       "    </tr>\n",
       "    <tr>\n",
       "      <th>min</th>\n",
       "      <td>0.700000</td>\n",
       "      <td>0.000000</td>\n",
       "      <td>0.300000</td>\n",
       "      <td>1.600000</td>\n",
       "    </tr>\n",
       "    <tr>\n",
       "      <th>25%</th>\n",
       "      <td>74.375000</td>\n",
       "      <td>9.975000</td>\n",
       "      <td>12.750000</td>\n",
       "      <td>10.375000</td>\n",
       "    </tr>\n",
       "    <tr>\n",
       "      <th>50%</th>\n",
       "      <td>149.750000</td>\n",
       "      <td>22.900000</td>\n",
       "      <td>25.750000</td>\n",
       "      <td>12.900000</td>\n",
       "    </tr>\n",
       "    <tr>\n",
       "      <th>75%</th>\n",
       "      <td>218.825000</td>\n",
       "      <td>36.525000</td>\n",
       "      <td>45.100000</td>\n",
       "      <td>17.400000</td>\n",
       "    </tr>\n",
       "    <tr>\n",
       "      <th>max</th>\n",
       "      <td>296.400000</td>\n",
       "      <td>49.600000</td>\n",
       "      <td>114.000000</td>\n",
       "      <td>27.000000</td>\n",
       "    </tr>\n",
       "  </tbody>\n",
       "</table>\n",
       "</div>"
      ],
      "text/plain": [
       "               TV       Radio   Newspaper       Sales\n",
       "count  200.000000  200.000000  200.000000  200.000000\n",
       "mean   147.042500   23.264000   30.554000   14.022500\n",
       "std     85.854236   14.846809   21.778621    5.217457\n",
       "min      0.700000    0.000000    0.300000    1.600000\n",
       "25%     74.375000    9.975000   12.750000   10.375000\n",
       "50%    149.750000   22.900000   25.750000   12.900000\n",
       "75%    218.825000   36.525000   45.100000   17.400000\n",
       "max    296.400000   49.600000  114.000000   27.000000"
      ]
     },
     "execution_count": 33,
     "metadata": {},
     "output_type": "execute_result"
    }
   ],
   "source": [
    "data.describe()"
   ]
  },
  {
   "cell_type": "code",
   "execution_count": 34,
   "metadata": {},
   "outputs": [
    {
     "data": {
      "text/plain": [
       "TV           0\n",
       "Radio        0\n",
       "Newspaper    0\n",
       "Sales        0\n",
       "dtype: int64"
      ]
     },
     "execution_count": 34,
     "metadata": {},
     "output_type": "execute_result"
    }
   ],
   "source": [
    "data.isnull().sum()"
   ]
  },
  {
   "cell_type": "code",
   "execution_count": 35,
   "metadata": {},
   "outputs": [
    {
     "name": "stdout",
     "output_type": "stream",
     "text": [
      "<class 'pandas.core.frame.DataFrame'>\n",
      "Index: 200 entries, 1 to 200\n",
      "Data columns (total 4 columns):\n",
      " #   Column     Non-Null Count  Dtype  \n",
      "---  ------     --------------  -----  \n",
      " 0   TV         200 non-null    float64\n",
      " 1   Radio      200 non-null    float64\n",
      " 2   Newspaper  200 non-null    float64\n",
      " 3   Sales      200 non-null    float64\n",
      "dtypes: float64(4)\n",
      "memory usage: 7.8 KB\n"
     ]
    }
   ],
   "source": [
    "data.info()"
   ]
  },
  {
   "cell_type": "code",
   "execution_count": 36,
   "metadata": {},
   "outputs": [
    {
     "data": {
      "text/plain": [
       "Index(['TV', 'Radio', 'Newspaper', 'Sales'], dtype='object')"
      ]
     },
     "execution_count": 36,
     "metadata": {},
     "output_type": "execute_result"
    }
   ],
   "source": [
    "data.columns"
   ]
  },
  {
   "cell_type": "code",
   "execution_count": 37,
   "metadata": {},
   "outputs": [
    {
     "name": "stdout",
     "output_type": "stream",
     "text": [
      "in ml algorithm we can always predict only one column based on multiple columns\n"
     ]
    }
   ],
   "source": [
    "print(\"in ml algorithm we can always predict only one column based on multiple columns\")\n",
    "x = data[['TV', 'Radio', 'Newspaper']]\n",
    "y = data[['Sales']]"
   ]
  },
  {
   "cell_type": "code",
   "execution_count": 38,
   "metadata": {},
   "outputs": [
    {
     "name": "stdout",
     "output_type": "stream",
     "text": [
      "        TV  Radio  Newspaper\n",
      "1    230.1   37.8       69.2\n",
      "2     44.5   39.3       45.1\n",
      "3     17.2   45.9       69.3\n",
      "4    151.5   41.3       58.5\n",
      "5    180.8   10.8       58.4\n",
      "..     ...    ...        ...\n",
      "196   38.2    3.7       13.8\n",
      "197   94.2    4.9        8.1\n",
      "198  177.0    9.3        6.4\n",
      "199  283.6   42.0       66.2\n",
      "200  232.1    8.6        8.7\n",
      "\n",
      "[200 rows x 3 columns]\n"
     ]
    }
   ],
   "source": [
    "print(x)"
   ]
  },
  {
   "cell_type": "code",
   "execution_count": 39,
   "metadata": {},
   "outputs": [],
   "source": [
    "                        # flow very important\n",
    "#supervised or unsupervised\n",
    "# we have both x and y(value to predict) then supervide\n",
    "# if we dont have y, use unspuervised\n",
    "\n",
    "# in supervised (how to choose classification and regression)\n",
    "# choose regression if we want to predict something and the predicting column is cuntinuous(numerical) not categorical"
   ]
  },
  {
   "cell_type": "code",
   "execution_count": 40,
   "metadata": {},
   "outputs": [],
   "source": [
    "            # Training\n",
    "# Train and Test split\n",
    "# 70% to 80% Training\n",
    "# 20% to 30% testing"
   ]
  },
  {
   "cell_type": "code",
   "execution_count": 41,
   "metadata": {},
   "outputs": [],
   "source": [
    "# linear regression working\n",
    "# y = b0 + b1x1 + b2x2 + b3x3  (here b means beta)\n",
    "# why only x1,x1,x3 coz we have 3 columns apart from the column(y) we have to predict\n",
    "\n",
    "# note x = independent variable\n",
    "#      y = dependent variable\n",
    "\n",
    "# so first we have values of y and x in training data then we find b0, b1, b2, b3.\n",
    "# now we have x and b on test data (well we also have y but we will use it to check) then using x and b we will find y and cross check this y with original test data\n",
    "\n",
    "# on best fit line the b0 is the starting point on y-axis\n",
    "# NOte the mean of a column is staright line parallel to x-axis"
   ]
  },
  {
   "cell_type": "code",
   "execution_count": 42,
   "metadata": {},
   "outputs": [],
   "source": [
    "# best fit line\n",
    "# it needs to be close to all datapoints \n",
    "# and when there is an Outlier then the bestfit line will also be close to that outliers which will shift our best fit line and prediction will be wrong"
   ]
  },
  {
   "cell_type": "code",
   "execution_count": 43,
   "metadata": {},
   "outputs": [],
   "source": [
    "from sklearn.model_selection import train_test_split\n",
    "x_train, x_test, y_train, y_test = train_test_split(x, y, test_size = 0.2)# chooses randomly 0.2 means 20% for testing"
   ]
  },
  {
   "cell_type": "code",
   "execution_count": 44,
   "metadata": {},
   "outputs": [
    {
     "name": "stdout",
     "output_type": "stream",
     "text": [
      "(160, 3) training data size for x\n",
      "(40, 3) testing data size for x\n",
      "(160, 1) training data size for y\n",
      "(40, 1) testing data size for y\n"
     ]
    }
   ],
   "source": [
    "print(x_train.shape, \"training data size for x\")\n",
    "print(x_test.shape,  \"testing data size for x\")\n",
    "print(y_train.shape, \"training data size for y\")\n",
    "print(y_test.shape,  \"testing data size for y\")"
   ]
  },
  {
   "cell_type": "code",
   "execution_count": 45,
   "metadata": {},
   "outputs": [],
   "source": [
    "from sklearn.linear_model import LinearRegression\n",
    "\n",
    "lm = LinearRegression()\n",
    "model = lm.fit(x_train, y_train)"
   ]
  },
  {
   "cell_type": "code",
   "execution_count": 46,
   "metadata": {},
   "outputs": [
    {
     "data": {
      "text/plain": [
       "array([[ 0.04523253,  0.19690197, -0.00411705]])"
      ]
     },
     "execution_count": 46,
     "metadata": {},
     "output_type": "execute_result"
    }
   ],
   "source": [
    "model.coef_  # this is (b1, b2, b3)"
   ]
  },
  {
   "cell_type": "code",
   "execution_count": 47,
   "metadata": {},
   "outputs": [
    {
     "data": {
      "text/plain": [
       "array([2.95516756])"
      ]
     },
     "execution_count": 47,
     "metadata": {},
     "output_type": "execute_result"
    }
   ],
   "source": [
    "model.intercept_  # this is (b0)"
   ]
  },
  {
   "cell_type": "code",
   "execution_count": 48,
   "metadata": {},
   "outputs": [
    {
     "name": "stdout",
     "output_type": "stream",
     "text": [
      "this is pretty close to 22.1 and (predicted)y = 20.704067188000003\n"
     ]
    }
   ],
   "source": [
    "# y = b0 + b1x1 + b2x2 + b3x3\n",
    "\n",
    "b0 = 3.03313258\n",
    "b1 = 0.04626426\n",
    "b2 = 0.18655545\n",
    "b3 = -0.00037959\n",
    "\n",
    "y = b0 + b1*230.1 + b2*37.8 + b3*69.2\n",
    "print(\"this is pretty close to 22.1 and (predicted)y =\", y)"
   ]
  },
  {
   "cell_type": "code",
   "execution_count": 49,
   "metadata": {},
   "outputs": [
    {
     "name": "stdout",
     "output_type": "stream",
     "text": [
      "this is pretty close to 10.4 and (predicted)y = 12.406401826\n"
     ]
    }
   ],
   "source": [
    "b0 = 3.03313258\n",
    "b1 = 0.04626426\n",
    "b2 = 0.18655545\n",
    "b3 = -0.00037959\n",
    "\n",
    "y = b0 + b1*44.5 + b2*39.3 + b3*45.1\n",
    "print(\"this is pretty close to 10.4 and (predicted)y =\", y)"
   ]
  },
  {
   "cell_type": "code",
   "execution_count": 50,
   "metadata": {},
   "outputs": [
    {
     "data": {
      "text/plain": [
       "array([[21.68221174],\n",
       "       [15.5598265 ],\n",
       "       [ 7.5291171 ],\n",
       "       [13.25327386],\n",
       "       [ 3.52107794],\n",
       "       [23.25118752],\n",
       "       [10.04640684],\n",
       "       [ 7.52361071],\n",
       "       [16.34594962],\n",
       "       [13.01931412],\n",
       "       [ 5.35477211],\n",
       "       [14.76737828],\n",
       "       [18.90573136],\n",
       "       [10.74832995],\n",
       "       [17.12199683],\n",
       "       [17.8268343 ],\n",
       "       [ 7.83640494],\n",
       "       [21.5982442 ],\n",
       "       [18.23654472],\n",
       "       [13.85906405],\n",
       "       [ 8.47206241],\n",
       "       [10.52489281],\n",
       "       [11.96183714],\n",
       "       [19.15559888],\n",
       "       [10.51635509],\n",
       "       [ 7.8708124 ],\n",
       "       [17.87558711],\n",
       "       [21.02742046],\n",
       "       [10.56398005],\n",
       "       [11.95458525],\n",
       "       [17.10799845],\n",
       "       [16.71148484],\n",
       "       [24.13522306],\n",
       "       [15.69643071],\n",
       "       [14.24524036],\n",
       "       [13.63041518],\n",
       "       [19.95565951],\n",
       "       [19.78157449],\n",
       "       [ 7.00774311],\n",
       "       [10.75914505]])"
      ]
     },
     "execution_count": 50,
     "metadata": {},
     "output_type": "execute_result"
    }
   ],
   "source": [
    "# so above we did manually\n",
    "\n",
    "# we dont do that here, we use function\n",
    "y_pred = model.predict(x_test) # it basically performs --> y = b0 + b1x1 + b2x2 + b3x3 on all rows\n",
    "y_pred"
   ]
  },
  {
   "cell_type": "code",
   "execution_count": 51,
   "metadata": {},
   "outputs": [
    {
     "data": {
      "text/html": [
       "<div>\n",
       "<style scoped>\n",
       "    .dataframe tbody tr th:only-of-type {\n",
       "        vertical-align: middle;\n",
       "    }\n",
       "\n",
       "    .dataframe tbody tr th {\n",
       "        vertical-align: top;\n",
       "    }\n",
       "\n",
       "    .dataframe thead th {\n",
       "        text-align: right;\n",
       "    }\n",
       "</style>\n",
       "<table border=\"1\" class=\"dataframe\">\n",
       "  <thead>\n",
       "    <tr style=\"text-align: right;\">\n",
       "      <th></th>\n",
       "      <th>TV</th>\n",
       "      <th>Radio</th>\n",
       "      <th>Newspaper</th>\n",
       "      <th>actual sales</th>\n",
       "      <th>predicted sales</th>\n",
       "    </tr>\n",
       "  </thead>\n",
       "  <tbody>\n",
       "    <tr>\n",
       "      <th>43</th>\n",
       "      <td>293.6</td>\n",
       "      <td>27.7</td>\n",
       "      <td>1.8</td>\n",
       "      <td>20.7</td>\n",
       "      <td>21.682212</td>\n",
       "    </tr>\n",
       "    <tr>\n",
       "      <th>157</th>\n",
       "      <td>93.9</td>\n",
       "      <td>43.5</td>\n",
       "      <td>50.5</td>\n",
       "      <td>15.3</td>\n",
       "      <td>15.559827</td>\n",
       "    </tr>\n",
       "    <tr>\n",
       "      <th>35</th>\n",
       "      <td>95.7</td>\n",
       "      <td>1.4</td>\n",
       "      <td>7.4</td>\n",
       "      <td>9.5</td>\n",
       "      <td>7.529117</td>\n",
       "    </tr>\n",
       "    <tr>\n",
       "      <th>168</th>\n",
       "      <td>206.8</td>\n",
       "      <td>5.2</td>\n",
       "      <td>19.4</td>\n",
       "      <td>12.2</td>\n",
       "      <td>13.253274</td>\n",
       "    </tr>\n",
       "    <tr>\n",
       "      <th>109</th>\n",
       "      <td>13.1</td>\n",
       "      <td>0.4</td>\n",
       "      <td>25.6</td>\n",
       "      <td>5.3</td>\n",
       "      <td>3.521078</td>\n",
       "    </tr>\n",
       "    <tr>\n",
       "      <th>18</th>\n",
       "      <td>281.4</td>\n",
       "      <td>39.6</td>\n",
       "      <td>55.8</td>\n",
       "      <td>24.4</td>\n",
       "      <td>23.251188</td>\n",
       "    </tr>\n",
       "    <tr>\n",
       "      <th>19</th>\n",
       "      <td>69.2</td>\n",
       "      <td>20.5</td>\n",
       "      <td>18.3</td>\n",
       "      <td>11.3</td>\n",
       "      <td>10.046407</td>\n",
       "    </tr>\n",
       "    <tr>\n",
       "      <th>33</th>\n",
       "      <td>97.2</td>\n",
       "      <td>1.5</td>\n",
       "      <td>30.0</td>\n",
       "      <td>9.6</td>\n",
       "      <td>7.523611</td>\n",
       "    </tr>\n",
       "    <tr>\n",
       "      <th>96</th>\n",
       "      <td>163.3</td>\n",
       "      <td>31.6</td>\n",
       "      <td>52.9</td>\n",
       "      <td>16.9</td>\n",
       "      <td>16.345950</td>\n",
       "    </tr>\n",
       "    <tr>\n",
       "      <th>5</th>\n",
       "      <td>180.8</td>\n",
       "      <td>10.8</td>\n",
       "      <td>58.4</td>\n",
       "      <td>12.9</td>\n",
       "      <td>13.019314</td>\n",
       "    </tr>\n",
       "    <tr>\n",
       "      <th>196</th>\n",
       "      <td>38.2</td>\n",
       "      <td>3.7</td>\n",
       "      <td>13.8</td>\n",
       "      <td>7.6</td>\n",
       "      <td>5.354772</td>\n",
       "    </tr>\n",
       "    <tr>\n",
       "      <th>104</th>\n",
       "      <td>187.9</td>\n",
       "      <td>17.2</td>\n",
       "      <td>17.9</td>\n",
       "      <td>14.7</td>\n",
       "      <td>14.767378</td>\n",
       "    </tr>\n",
       "    <tr>\n",
       "      <th>34</th>\n",
       "      <td>265.6</td>\n",
       "      <td>20.0</td>\n",
       "      <td>0.3</td>\n",
       "      <td>17.4</td>\n",
       "      <td>18.905731</td>\n",
       "    </tr>\n",
       "    <tr>\n",
       "      <th>131</th>\n",
       "      <td>0.7</td>\n",
       "      <td>39.6</td>\n",
       "      <td>8.7</td>\n",
       "      <td>1.6</td>\n",
       "      <td>10.748330</td>\n",
       "    </tr>\n",
       "    <tr>\n",
       "      <th>90</th>\n",
       "      <td>109.8</td>\n",
       "      <td>47.8</td>\n",
       "      <td>51.4</td>\n",
       "      <td>16.7</td>\n",
       "      <td>17.121997</td>\n",
       "    </tr>\n",
       "    <tr>\n",
       "      <th>71</th>\n",
       "      <td>199.1</td>\n",
       "      <td>30.6</td>\n",
       "      <td>38.7</td>\n",
       "      <td>18.3</td>\n",
       "      <td>17.826834</td>\n",
       "    </tr>\n",
       "    <tr>\n",
       "      <th>130</th>\n",
       "      <td>59.6</td>\n",
       "      <td>12.0</td>\n",
       "      <td>43.1</td>\n",
       "      <td>9.7</td>\n",
       "      <td>7.836405</td>\n",
       "    </tr>\n",
       "    <tr>\n",
       "      <th>31</th>\n",
       "      <td>292.9</td>\n",
       "      <td>28.3</td>\n",
       "      <td>43.2</td>\n",
       "      <td>21.4</td>\n",
       "      <td>21.598244</td>\n",
       "    </tr>\n",
       "    <tr>\n",
       "      <th>151</th>\n",
       "      <td>280.7</td>\n",
       "      <td>13.9</td>\n",
       "      <td>37.0</td>\n",
       "      <td>16.1</td>\n",
       "      <td>18.236545</td>\n",
       "    </tr>\n",
       "    <tr>\n",
       "      <th>44</th>\n",
       "      <td>206.9</td>\n",
       "      <td>8.4</td>\n",
       "      <td>26.4</td>\n",
       "      <td>12.9</td>\n",
       "      <td>13.859064</td>\n",
       "    </tr>\n",
       "    <tr>\n",
       "      <th>192</th>\n",
       "      <td>75.5</td>\n",
       "      <td>10.8</td>\n",
       "      <td>6.0</td>\n",
       "      <td>9.9</td>\n",
       "      <td>8.472062</td>\n",
       "    </tr>\n",
       "    <tr>\n",
       "      <th>95</th>\n",
       "      <td>107.4</td>\n",
       "      <td>14.0</td>\n",
       "      <td>10.9</td>\n",
       "      <td>11.5</td>\n",
       "      <td>10.524893</td>\n",
       "    </tr>\n",
       "    <tr>\n",
       "      <th>117</th>\n",
       "      <td>139.2</td>\n",
       "      <td>14.3</td>\n",
       "      <td>25.6</td>\n",
       "      <td>12.2</td>\n",
       "      <td>11.961837</td>\n",
       "    </tr>\n",
       "    <tr>\n",
       "      <th>93</th>\n",
       "      <td>217.7</td>\n",
       "      <td>33.5</td>\n",
       "      <td>59.0</td>\n",
       "      <td>19.4</td>\n",
       "      <td>19.155599</td>\n",
       "    </tr>\n",
       "    <tr>\n",
       "      <th>181</th>\n",
       "      <td>156.6</td>\n",
       "      <td>2.6</td>\n",
       "      <td>8.3</td>\n",
       "      <td>10.5</td>\n",
       "      <td>10.516355</td>\n",
       "    </tr>\n",
       "    <tr>\n",
       "      <th>122</th>\n",
       "      <td>18.8</td>\n",
       "      <td>21.7</td>\n",
       "      <td>50.4</td>\n",
       "      <td>7.0</td>\n",
       "      <td>7.870812</td>\n",
       "    </tr>\n",
       "    <tr>\n",
       "      <th>170</th>\n",
       "      <td>284.3</td>\n",
       "      <td>10.6</td>\n",
       "      <td>6.4</td>\n",
       "      <td>15.0</td>\n",
       "      <td>17.875587</td>\n",
       "    </tr>\n",
       "    <tr>\n",
       "      <th>186</th>\n",
       "      <td>205.0</td>\n",
       "      <td>45.1</td>\n",
       "      <td>19.6</td>\n",
       "      <td>22.6</td>\n",
       "      <td>21.027420</td>\n",
       "    </tr>\n",
       "    <tr>\n",
       "      <th>159</th>\n",
       "      <td>11.7</td>\n",
       "      <td>36.9</td>\n",
       "      <td>45.2</td>\n",
       "      <td>7.3</td>\n",
       "      <td>10.563980</td>\n",
       "    </tr>\n",
       "    <tr>\n",
       "      <th>135</th>\n",
       "      <td>36.9</td>\n",
       "      <td>38.6</td>\n",
       "      <td>65.6</td>\n",
       "      <td>10.8</td>\n",
       "      <td>11.954585</td>\n",
       "    </tr>\n",
       "    <tr>\n",
       "      <th>169</th>\n",
       "      <td>215.4</td>\n",
       "      <td>23.6</td>\n",
       "      <td>57.6</td>\n",
       "      <td>17.1</td>\n",
       "      <td>17.107998</td>\n",
       "    </tr>\n",
       "    <tr>\n",
       "      <th>195</th>\n",
       "      <td>149.7</td>\n",
       "      <td>35.6</td>\n",
       "      <td>6.0</td>\n",
       "      <td>17.3</td>\n",
       "      <td>16.711485</td>\n",
       "    </tr>\n",
       "    <tr>\n",
       "      <th>184</th>\n",
       "      <td>287.6</td>\n",
       "      <td>43.0</td>\n",
       "      <td>71.8</td>\n",
       "      <td>26.2</td>\n",
       "      <td>24.135223</td>\n",
       "    </tr>\n",
       "    <tr>\n",
       "      <th>88</th>\n",
       "      <td>110.7</td>\n",
       "      <td>40.6</td>\n",
       "      <td>63.2</td>\n",
       "      <td>16.0</td>\n",
       "      <td>15.696431</td>\n",
       "    </tr>\n",
       "    <tr>\n",
       "      <th>20</th>\n",
       "      <td>147.3</td>\n",
       "      <td>23.9</td>\n",
       "      <td>19.1</td>\n",
       "      <td>14.6</td>\n",
       "      <td>14.245240</td>\n",
       "    </tr>\n",
       "    <tr>\n",
       "      <th>175</th>\n",
       "      <td>222.4</td>\n",
       "      <td>3.4</td>\n",
       "      <td>13.1</td>\n",
       "      <td>11.5</td>\n",
       "      <td>13.630415</td>\n",
       "    </tr>\n",
       "    <tr>\n",
       "      <th>140</th>\n",
       "      <td>184.9</td>\n",
       "      <td>43.9</td>\n",
       "      <td>1.7</td>\n",
       "      <td>20.7</td>\n",
       "      <td>19.955660</td>\n",
       "    </tr>\n",
       "    <tr>\n",
       "      <th>110</th>\n",
       "      <td>255.4</td>\n",
       "      <td>26.9</td>\n",
       "      <td>5.5</td>\n",
       "      <td>19.8</td>\n",
       "      <td>19.781574</td>\n",
       "    </tr>\n",
       "    <tr>\n",
       "      <th>108</th>\n",
       "      <td>90.4</td>\n",
       "      <td>0.3</td>\n",
       "      <td>23.2</td>\n",
       "      <td>8.7</td>\n",
       "      <td>7.007743</td>\n",
       "    </tr>\n",
       "    <tr>\n",
       "      <th>127</th>\n",
       "      <td>7.8</td>\n",
       "      <td>38.9</td>\n",
       "      <td>50.6</td>\n",
       "      <td>6.6</td>\n",
       "      <td>10.759145</td>\n",
       "    </tr>\n",
       "  </tbody>\n",
       "</table>\n",
       "</div>"
      ],
      "text/plain": [
       "        TV  Radio  Newspaper  actual sales  predicted sales\n",
       "43   293.6   27.7        1.8          20.7        21.682212\n",
       "157   93.9   43.5       50.5          15.3        15.559827\n",
       "35    95.7    1.4        7.4           9.5         7.529117\n",
       "168  206.8    5.2       19.4          12.2        13.253274\n",
       "109   13.1    0.4       25.6           5.3         3.521078\n",
       "18   281.4   39.6       55.8          24.4        23.251188\n",
       "19    69.2   20.5       18.3          11.3        10.046407\n",
       "33    97.2    1.5       30.0           9.6         7.523611\n",
       "96   163.3   31.6       52.9          16.9        16.345950\n",
       "5    180.8   10.8       58.4          12.9        13.019314\n",
       "196   38.2    3.7       13.8           7.6         5.354772\n",
       "104  187.9   17.2       17.9          14.7        14.767378\n",
       "34   265.6   20.0        0.3          17.4        18.905731\n",
       "131    0.7   39.6        8.7           1.6        10.748330\n",
       "90   109.8   47.8       51.4          16.7        17.121997\n",
       "71   199.1   30.6       38.7          18.3        17.826834\n",
       "130   59.6   12.0       43.1           9.7         7.836405\n",
       "31   292.9   28.3       43.2          21.4        21.598244\n",
       "151  280.7   13.9       37.0          16.1        18.236545\n",
       "44   206.9    8.4       26.4          12.9        13.859064\n",
       "192   75.5   10.8        6.0           9.9         8.472062\n",
       "95   107.4   14.0       10.9          11.5        10.524893\n",
       "117  139.2   14.3       25.6          12.2        11.961837\n",
       "93   217.7   33.5       59.0          19.4        19.155599\n",
       "181  156.6    2.6        8.3          10.5        10.516355\n",
       "122   18.8   21.7       50.4           7.0         7.870812\n",
       "170  284.3   10.6        6.4          15.0        17.875587\n",
       "186  205.0   45.1       19.6          22.6        21.027420\n",
       "159   11.7   36.9       45.2           7.3        10.563980\n",
       "135   36.9   38.6       65.6          10.8        11.954585\n",
       "169  215.4   23.6       57.6          17.1        17.107998\n",
       "195  149.7   35.6        6.0          17.3        16.711485\n",
       "184  287.6   43.0       71.8          26.2        24.135223\n",
       "88   110.7   40.6       63.2          16.0        15.696431\n",
       "20   147.3   23.9       19.1          14.6        14.245240\n",
       "175  222.4    3.4       13.1          11.5        13.630415\n",
       "140  184.9   43.9        1.7          20.7        19.955660\n",
       "110  255.4   26.9        5.5          19.8        19.781574\n",
       "108   90.4    0.3       23.2           8.7         7.007743\n",
       "127    7.8   38.9       50.6           6.6        10.759145"
      ]
     },
     "execution_count": 51,
     "metadata": {},
     "output_type": "execute_result"
    }
   ],
   "source": [
    "# now to make it look good and readable\n",
    "new_df = pd.DataFrame()\n",
    "new_df = x_test \n",
    "new_df['actual sales']    = y_test\n",
    "new_df['predicted sales'] = y_pred\n",
    "new_df"
   ]
  },
  {
   "cell_type": "code",
   "execution_count": 52,
   "metadata": {},
   "outputs": [
    {
     "name": "stdout",
     "output_type": "stream",
     "text": [
      "R-score jitna 1 ke pass utna achha(iska range hota hai 0 to 1)\n",
      "R-score: 0.8539202398990502\n",
      "\n",
      "RMSE jitna zyada utna achha\n",
      "RMSE: 2.0844339549764004\n"
     ]
    }
   ],
   "source": [
    "# step 1= gathering data\n",
    "# step 2 = preprocessing\n",
    "# step 3 = training and testing\n",
    "# step 4 = evaluation\n",
    "# step 5 = tuning(enhance performance)\n",
    "\n",
    "\n",
    "\n",
    "                # this is step 3 = EVALUATION\n",
    "\n",
    "# NOTE supervised algos k liye r2_score and mean_squared_error hai)\n",
    "\n",
    "import numpy as np\n",
    "from sklearn.metrics import r2_score, mean_squared_error\n",
    "r2 = r2_score(y_test, y_pred)\n",
    "print(\"R-square jitna 1 ke pass utna achha(iska range hota hai 0 to 1)\")\n",
    "print(\"R-square:\",r2)\n",
    "# The R-squared (R²) value of 0.8539 indicates that approximately 85.39% of the variance in the Sales is explained by your model. \n",
    "# This is generally considered a good value, suggesting that your model has a strong explanatory power. \n",
    "\n",
    "\n",
    "\n",
    "print()\n",
    "\n",
    "rmse = np.sqrt(mean_squared_error(y_test, y_pred))\n",
    "print(\"RMSE jitna kam utna achha\")\n",
    "print(\"RMSE:\",rmse)\n",
    "\n",
    "# on average predictions deviate from the actual car prices by about 2.0844 dollars."
   ]
  },
  {
   "cell_type": "markdown",
   "metadata": {},
   "source": [
    "# TASK"
   ]
  },
  {
   "cell_type": "code",
   "execution_count": 53,
   "metadata": {},
   "outputs": [],
   "source": [
    "# kaggle.com/datasets/sharanmedamoni/toyoto\n",
    "\n",
    "\n",
    "import pandas as pd"
   ]
  },
  {
   "cell_type": "code",
   "execution_count": 54,
   "metadata": {},
   "outputs": [],
   "source": [
    "data2 = pd.read_csv(\"Toyota.csv\", index_col= 0)"
   ]
  },
  {
   "cell_type": "markdown",
   "metadata": {},
   "source": [
    "github \n",
    "0. interface\n",
    "1. new(green color)\n",
    "2. guve name to repo\n",
    "3. make pubic\n",
    "4. add readme file\n",
    "5. create\n",
    "\n",
    "\n",
    "go to readme-> go to pencilsign/(interview m bhi yehi explain karna hai)\n",
    "1. problem statemnet\n",
    "2. define dataset\n",
    "3. mention all the null/incorrect symbol handling(if any)\n",
    "4. whih algo used\n",
    "5. mention = coefficient and intercept values\n",
    "6. mention = RRMSE and R2_score values"
   ]
  },
  {
   "cell_type": "markdown",
   "metadata": {},
   "source": [
    "how to add project in github\n",
    "1. go on your repo \n",
    "2. click on code\n",
    "3. copy the url\n",
    "4. go in cmd (normal) \n",
    "5. write git\n",
    "6. write git clone (paste the url) sample = git clone https://github.com/Ashking21101/Linear-Regression.git\n",
    "7. cd Linear-Regression\n",
    "8. now copy the code file and dataset file\n",
    "9. and paste them in the above folder"
   ]
  }
 ],
 "metadata": {
  "kernelspec": {
   "display_name": "base",
   "language": "python",
   "name": "python3"
  },
  "language_info": {
   "codemirror_mode": {
    "name": "ipython",
    "version": 3
   },
   "file_extension": ".py",
   "mimetype": "text/x-python",
   "name": "python",
   "nbconvert_exporter": "python",
   "pygments_lexer": "ipython3",
   "version": "3.11.7"
  }
 },
 "nbformat": 4,
 "nbformat_minor": 2
}
